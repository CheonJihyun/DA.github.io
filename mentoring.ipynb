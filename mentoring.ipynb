{
 "cells": [
  {
   "cell_type": "markdown",
   "id": "ec52da53-3702-4ffd-ae3b-2844475265ae",
   "metadata": {},
   "source": [
    "## 2025.01.31 멘토링"
   ]
  },
  {
   "cell_type": "markdown",
   "id": "b7bdf710-4ba9-4a65-af0b-4a93a3f8213d",
   "metadata": {},
   "source": [
    "### 주제: 선형회귀와 상관계수($r$), 결정계수($r^2$)"
   ]
  },
  {
   "cell_type": "markdown",
   "id": "d52445dd-8519-4ed0-83f5-0925605828ed",
   "metadata": {},
   "source": [
    "알아두면 좋은 개념들\n",
    "\n",
    "1. 머신러닝과 딥러닝\n",
    "- 머신러닝은 데이터를 넣으면 최적의 알고리즘을 알아서 찾아내는 것\n",
    "- 딥러닝은 머신러닝 알고리즘 중 특정 종류를 지칭\n",
    "\n",
    "2. 선형회귀: 모사하는 최적의 알고리즘이 선형인 경우\n",
    "\n",
    "3. 지도학습과 비지도학습\n",
    "- 지도학습: 레이블(정답)을 같이 주는 것), 선형회귀도 지도 학습의 한 종류(x->y를 알고 있기 때문), 일일이 레이블링을 해야함 (시간이 많이 걸림)\n",
    "- 비지도학습: 데이터셋 안에서 알아서 구조를 찾아냄 (클러스터링과 같은 분류 작업을 통해 공통된 특징을 발견하는 경우)"
   ]
  },
  {
   "cell_type": "markdown",
   "id": "a2aeb54d-ed2d-42e5-92fb-5a78193af422",
   "metadata": {},
   "source": [
    "통계 공부할 때 우선 집중해야하는 것\n",
    "1. 어떤 상황에서 쓰이는지\n",
    "2. 어떤 조건을 만족해야 쓰이는지"
   ]
  },
  {
   "cell_type": "markdown",
   "id": "5f36b782-e032-4236-8303-efb13224762e",
   "metadata": {},
   "source": [
    "#### 상관계수 r\n",
    "\n",
    "1. 의미: 선형관계의 강도 (-1 ~ 1)\n",
    "- r=1: 양의 기울기를 보이는 직선 위에 모든 점이 위치해 있음\n",
    "- r=-1: 음의 기울기를 보이는 직선 위에 모든 점이 위치해 있음\n",
    "\n",
    "2. 주의: r은 직선의 기울기와 무관함\n",
    "- 직선에서 점들이 먼지 가까운지, 상관관계가 음인지 양인지만 중요"
   ]
  },
  {
   "cell_type": "markdown",
   "id": "6dc14750-3428-4ec3-89ce-2e4d49d39bd1",
   "metadata": {},
   "source": [
    "#### 잔차 residual\n",
    "- 관측값(실제 데이터)과 예측값 사이의 차이\n",
    "- 선형 강도를 설명하기 위해 필요한 개념"
   ]
  },
  {
   "cell_type": "markdown",
   "id": "911a2f5c-acfa-4ce2-a0a2-fc32ea24a5aa",
   "metadata": {},
   "source": [
    "#### 결정계수 $r^2$\n",
    "\n",
    "1. 수학적 의미\n",
    "- ${SS_{regression}}/{SS_{total}}$\n",
    "- 모든 오차 중에 너네 모델이 예측한 y 값이 예측 오차를 얼마나 영향력있게 설명하는데?\n",
    "- i.e. $r^2$ = 0.38이라면? -> 우리가 만든 선형 모델로는 데이터의 38%만큼의 분산을 설명할 수 있고, 나머지 62%는 다른 요소(내가 x로 놓은 요소가 아닌 요소) or 랜덤적 요소에 의해 설명된다"
   ]
  },
  {
   "cell_type": "markdown",
   "id": "bc41113e-c110-4a70-9821-9b7b79e66557",
   "metadata": {},
   "source": [
    "#### 내삽과 외삽\n",
    "\n",
    "1. interpolation(내삽)\n",
    "- 데이터의 영역 내의 다른 데이터를 예측하는 것\n",
    "- 괜찮다!\n",
    "\n",
    "2. extrapolation(외삽)\n",
    "- 모델에 사용된 데이터의 영역 이외의 영역을 예측하는 것\n",
    "- 일반화의 오류가 생길 수 있음\n",
    "- i.e. 일정기간 동안 남성 육상선수의 기록과 여성 육상선수의 기록 추이를 비교해보니? 먼 훗날 여성 육상선수가 남성 육상선수보다 훨씬 빨라질 것이다! -> 엥?"
   ]
  },
  {
   "cell_type": "markdown",
   "id": "4e754bb8-e658-4be5-8611-028d579b4be4",
   "metadata": {},
   "source": [
    "#### 선형회귀를 사용할 수 있는 조건\n",
    "\n",
    "1. 독립성: 데이터 샘플을 무작위로 뽑았어야 함\n",
    "2. 선형성: 선형관계의 형태를 보여야\n",
    "3. 정규성: 잔차가 거의 정규분포를 이뤄야(잔차가 작은 구간에 데이터가 많고 잔차가 큰 구간에 데이터가 적어야)\n",
    "4. 등분산성: 분산이 일정해야\n",
    "\n",
    "- 4가지 조건을 다 만족하면 모수적인 방법 사용 가능: Pearson\n",
    "- 독립성, 선형성만 만족하면 비모수 방법 사용: Spearman, Kendall"
   ]
  }
 ],
 "metadata": {
  "kernelspec": {
   "display_name": "Python [conda env:base] *",
   "language": "python",
   "name": "conda-base-py"
  },
  "language_info": {
   "codemirror_mode": {
    "name": "ipython",
    "version": 3
   },
   "file_extension": ".py",
   "mimetype": "text/x-python",
   "name": "python",
   "nbconvert_exporter": "python",
   "pygments_lexer": "ipython3",
   "version": "3.12.2"
  }
 },
 "nbformat": 4,
 "nbformat_minor": 5
}
