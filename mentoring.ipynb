{
 "cells": [
  {
   "cell_type": "markdown",
   "id": "ec52da53-3702-4ffd-ae3b-2844475265ae",
   "metadata": {},
   "source": [
    "## 2025.01.31 멘토링"
   ]
  },
  {
   "cell_type": "markdown",
   "id": "b7bdf710-4ba9-4a65-af0b-4a93a3f8213d",
   "metadata": {},
   "source": [
    "### 주제: 선형회귀와 상관계수($r$), 결정계수($r^2$)"
   ]
  },
  {
   "cell_type": "markdown",
   "id": "d52445dd-8519-4ed0-83f5-0925605828ed",
   "metadata": {},
   "source": [
    "알아두면 좋은 개념들\n",
    "\n",
    "1. 머신러닝과 딥러닝\n",
    "- 머신러닝은 데이터를 넣으면 최적의 알고리즘을 알아서 찾아내는 것\n",
    "- 딥러닝은 머신러닝 알고리즘 중 특정 종류를 지칭\n",
    "\n",
    "2. 선형회귀: 모사하는 최적의 알고리즘이 선형인 경우\n",
    "\n",
    "3. 지도학습과 비지도학습\n",
    "- 지도학습: 레이블(정답)을 같이 주는 것), 선형회귀도 지도 학습의 한 종류(x->y를 알고 있기 때문), 일일이 레이블링을 해야함 (시간이 많이 걸림)\n",
    "- 비지도학습: 데이터셋 안에서 알아서 구조를 찾아냄 (클러스터링과 같은 분류 작업을 통해 공통된 특징을 발견하는 경우)"
   ]
  },
  {
   "cell_type": "markdown",
   "id": "a2aeb54d-ed2d-42e5-92fb-5a78193af422",
   "metadata": {},
   "source": [
    "통계 공부할 때 우선 집중해야하는 것\n",
    "1. 어떤 상황에서 쓰이는지\n",
    "2. 어떤 조건을 만족해야 쓰이는지"
   ]
  },
  {
   "cell_type": "markdown",
   "id": "5f36b782-e032-4236-8303-efb13224762e",
   "metadata": {},
   "source": [
    "#### 상관계수 r\n",
    "\n",
    "1. 의미: 선형관계의 강도 (-1 ~ 1)\n",
    "- r=1: 양의 기울기를 보이는 직선 위에 모든 점이 위치해 있음\n",
    "- r=-1: 음의 기울기를 보이는 직선 위에 모든 점이 위치해 있음\n",
    "\n",
    "2. 주의: r은 직선의 기울기와 무관함\n",
    "- 직선에서 점들이 먼지 가까운지, 상관관계가 음인지 양인지만 중요"
   ]
  },
  {
   "cell_type": "markdown",
   "id": "6dc14750-3428-4ec3-89ce-2e4d49d39bd1",
   "metadata": {},
   "source": [
    "#### 잔차 residual\n",
    "- 관측값(실제 데이터)과 예측값 사이의 차이\n",
    "- 선형 강도를 설명하기 위해 필요한 개념"
   ]
  },
  {
   "cell_type": "markdown",
   "id": "911a2f5c-acfa-4ce2-a0a2-fc32ea24a5aa",
   "metadata": {},
   "source": [
    "#### 결정계수 $r^2$\n",
    "\n",
    "1. 수학적 의미\n",
    "- ${SS_{regression}}/{SS_{total}}$\n",
    "- 모든 오차 중에 너네 모델이 예측한 y 값이 예측 오차를 얼마나 영향력있게 설명하는데?\n",
    "- i.e. $r^2$ = 0.38이라면? -> 우리가 만든 선형 모델로는 데이터의 38%만큼의 분산을 설명할 수 있고, 나머지 62%는 다른 요소(내가 x로 놓은 요소가 아닌 요소) or 랜덤적 요소에 의해 설명된다"
   ]
  },
  {
   "cell_type": "markdown",
   "id": "bc41113e-c110-4a70-9821-9b7b79e66557",
   "metadata": {},
   "source": [
    "#### 내삽과 외삽\n",
    "\n",
    "1. interpolation(내삽)\n",
    "- 데이터의 영역 내의 다른 데이터를 예측하는 것\n",
    "- 괜찮다!\n",
    "\n",
    "2. extrapolation(외삽)\n",
    "- 모델에 사용된 데이터의 영역 이외의 영역을 예측하는 것\n",
    "- 일반화의 오류가 생길 수 있음\n",
    "- i.e. 일정기간 동안 남성 육상선수의 기록과 여성 육상선수의 기록 추이를 비교해보니? 먼 훗날 여성 육상선수가 남성 육상선수보다 훨씬 빨라질 것이다! -> 엥?"
   ]
  },
  {
   "cell_type": "markdown",
   "id": "4e754bb8-e658-4be5-8611-028d579b4be4",
   "metadata": {},
   "source": [
    "#### 선형회귀를 사용할 수 있는 조건\n",
    "\n",
    "1. 독립성: 데이터 샘플을 무작위로 뽑았어야 함\n",
    "2. 선형성: 선형관계의 형태를 보여야\n",
    "3. 정규성: 잔차가 거의 정규분포를 이뤄야(잔차가 작은 구간에 데이터가 많고 잔차가 큰 구간에 데이터가 적어야)\n",
    "4. 등분산성: 분산이 일정해야\n",
    "\n",
    "- 4가지 조건을 다 만족하면 모수적인 방법 사용 가능: Pearson\n",
    "- 독립성, 선형성만 만족하면 비모수 방법 사용: Spearman, Kendall"
   ]
  },
  {
   "cell_type": "markdown",
   "id": "65cde893",
   "metadata": {},
   "source": [
    "## 2025.02.04 멘토링"
   ]
  },
  {
   "cell_type": "markdown",
   "id": "a93362f1",
   "metadata": {},
   "source": [
    "### 주제: 데이터 시각화와 Outlier"
   ]
  },
  {
   "cell_type": "markdown",
   "id": "ba415f40",
   "metadata": {},
   "source": [
    "#### 지난주 멘토링 복습\n",
    "\n",
    "상관계수 $r$\n",
    "\n",
    "- 선형 상관관계의 강도\n",
    "- 주의: 상관계수의 크기와 기울기의 절댓값은 무관하다\n",
    "\n",
    "결정계수 $r^2$\n",
    "\n",
    "- 상관계수의 제곱\n",
    "- 선형 상관관계의 강도를 표현\n",
    "- 모델이 데이터의 얼마만큼을 설명할 수 있는지를 알 수 있음"
   ]
  },
  {
   "cell_type": "markdown",
   "id": "2b4d54ff",
   "metadata": {},
   "source": [
    "#### 데이터 시각화\n",
    "\n",
    "1. Scatterplot / Heatmap: 두 숫자 변수 간의 관계를 시각화 할 때 유용\n",
    "\n",
    "- Scatterplot은 겹치는 데이터도 하나의 점으로 표현\n",
    "- Heatmap은 빈도수 표현에 더 적합\n",
    "\n",
    "2. Histogram: 숫자형 컬럼 데이터 하나의 분포를 보여주기에 적절\n",
    "\n",
    "3. Bar plot: 카테고리 변수의 데이터 분포를 나타내는데 적절\n",
    "\n",
    "- histogram은 x축이 연속형 변수인 것과 달리 bar plot은 카테고리로 분할되어 있음\n",
    "\n",
    "4. 분할표(두 카테고리 변수의 데이터 분포를 보여주는 표)를 시각화 할 때\n",
    "\n",
    "- Bar plot 변형 (stack, 나열, ...)\n",
    "- Mosaic plot"
   ]
  },
  {
   "cell_type": "markdown",
   "id": "b0d83327",
   "metadata": {},
   "source": [
    "#### 카이제곱 검정 독립성 검정\n",
    "\n",
    "- 두 범주형 변수가 독립적으로 분포하는지 테스트\n",
    "- Bar plot으로 결과 표현 가능\n",
    "- 어느 범주냐에 따라 상대 범주가 영향을 받는가?"
   ]
  },
  {
   "cell_type": "markdown",
   "id": "c57dd4cc",
   "metadata": {},
   "source": [
    "#### Outlier\n",
    "\n",
    "1. Outlier의 원인\n",
    "\n",
    "- 실제 데이터 분포 상의 이상치\n",
    "- 데이터 수집 및 입력 과정에서의 오류\n",
    "\n",
    "2. Outlier를 분류하는 방식\n",
    "\n",
    "- Median/IQR 혹은 mean/SD를 통해 Outlier를 발견할 수 있음 (범위의 기준은 분야에 따라 다름)\n",
    "- 둘 중 어떤 방식을 사용해야 한다는 정답은 X (모두 사용해보고 내 주장을 더 강화해줄 수 있는 것을 사용)\n",
    "- 데이터의 분포가 정규 분포 모양을 이룰 때는 mean/SD가 대표성이 높음\n",
    "- 데이터의 분포가 치우쳐져 있을 때는 median/IQR이 대표성이 높음\n",
    "                                                                                                                                                    "
   ]
  },
  {
   "cell_type": "markdown",
   "id": "6ae668c8",
   "metadata": {},
   "source": [
    "#### Correlation 분석 : p-value 포함 버전\n",
    "\n",
    "- 판다스의 corr() 함수를 통해 heatmap을 그리면 p-value는 확인되지 않은 상태라는 것\n",
    "\n",
    "p-value를 포함한 상관 분석의 결과를 보려면?\n",
    "\n",
    "- https://bigcat5312.tistory.com/54\n",
    "- https://tosinharold.medium.com/enhancing-correlation-matrix-heatmap-plots-in-python-41bac6a7fd77\n",
    "\n",
    "p-value가 작다는 것은 같을 확률이 작다는 것 = 귀무가설을 가정했을때 일어날 확률이 작다는 것(이상하다!)"
   ]
  },
  {
   "cell_type": "markdown",
   "id": "85c63bb2",
   "metadata": {},
   "source": [
    "## 2025.02.11 멘토링"
   ]
  },
  {
   "cell_type": "markdown",
   "id": "094fc14b",
   "metadata": {},
   "source": [
    "신입 채용 과정에서 필수로 중요한 부분\n",
    "\n",
    "1. SQL\n",
    "   - 코드잇 강의, Leetcode, 프로그래머스, HackerRank\n",
    "   - https://www.inflearn.com/course/bigquery-%ED%99%9C%EC%9A%A9%ED%8E%B8\n",
    "   - SQL 첫걸음 -> 데이터베이스 첫걸음 -> 데이터 분석을 위한 SQL 레시피\n",
    "   - SQL에 대한 감을 잃지 않도록\n",
    "2. 논리적인 분석 능력 (+ 포폴 만드는 법)\n",
    "   - 데이터 분석의 4단계 여정: 문제 정의부터 사용자 중심 솔루선까지\n",
    "   - 문제정의 -> 가설설정 -> ~ -> 시각화 및 결론 도출\n",
    "   - 절차를 철저하게 준수해서 하면 확실한 차별점이 될 것\n",
    "   - 희망하는 회사와 관련된 도메인의 데이터(오픈소스가 있다면)를 가지고 하면 확실한 가산점\n",
    "\n",
    "3. 그 외\n",
    "   - dacon.io"
   ]
  }
 ],
 "metadata": {
  "kernelspec": {
   "display_name": "Python [conda env:base] *",
   "language": "python",
   "name": "conda-base-py"
  },
  "language_info": {
   "codemirror_mode": {
    "name": "ipython",
    "version": 3
   },
   "file_extension": ".py",
   "mimetype": "text/x-python",
   "name": "python",
   "nbconvert_exporter": "python",
   "pygments_lexer": "ipython3",
   "version": "3.12.2"
  }
 },
 "nbformat": 4,
 "nbformat_minor": 5
}
