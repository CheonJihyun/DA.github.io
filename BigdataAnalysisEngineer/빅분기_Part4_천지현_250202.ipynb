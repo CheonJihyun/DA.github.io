{
 "cells": [
  {
   "cell_type": "markdown",
   "id": "6bd0af2c-9c4b-4d25-b5e4-01dcb46c8104",
   "metadata": {},
   "source": [
    "# PART 04 빅데이터 결과 해석"
   ]
  },
  {
   "cell_type": "markdown",
   "id": "ad4145c4-489d-4c92-b17f-7fc6ac99c914",
   "metadata": {},
   "source": [
    "## CHAPTER 01 분석 모형 평가 및 개선"
   ]
  },
  {
   "cell_type": "markdown",
   "id": "98775045-ca12-4204-92b0-6a1b1d5136e5",
   "metadata": {},
   "source": [
    "### 1. 분석 모형 평가"
   ]
  },
  {
   "cell_type": "markdown",
   "id": "69a61ae0-ae33-4841-84ee-0ed779726228",
   "metadata": {
    "jp-MarkdownHeadingCollapsed": true
   },
   "source": [
    "#### 평가 지표: 분석 모형의 성능을 평가하는 기준"
   ]
  },
  {
   "cell_type": "markdown",
   "id": "8f2edfb4-5108-46a7-b56d-66069aa9be3e",
   "metadata": {},
   "source": [
    "회귀 모형 평가 지표: 실제 값과 예측 값의 차이(오차)를 다양한 방식으로 평균하여 계산한 지표\n",
    "\n",
    "- 평균절대오차(MAE): 오차 절댓값의 평균, 직관적, 에러 크기 그대로 반영\n",
    "- 평균제곱오차(MSE): 오차 제곱의 평균, 값이 커지는 경향이 있음\n",
    "- 평균제곱근오차(RMSE): MSE에 제곱근\n",
    "- 평균절대백분율오차(MAPE): MAE를 퍼센트로 변환, 다른 변수 간 오차 비교 가능"
   ]
  },
  {
   "cell_type": "markdown",
   "id": "55308e76-3b67-4f5e-91fa-00304b549b84",
   "metadata": {},
   "source": [
    "결정계수($R^2$): 선형 회귀 모형이 실제 데이터를 얼마나 잘 설명하는지 나타내는 지표, 1에 가까울수록 설명력 높음\n",
    "\n",
    "- SST: 전체제곱합, y가 가지는 전체 변동\n",
    "- SSR: 회귀제곱합, y가 가지는 전체 변동성 중 회귀모형으로 설명할 수 있는 변동\n",
    "- SSE: 오차제곱합, y가 가지는 전체 변동성 중 회귀모형으로 설명할 수 없는 변동"
   ]
  },
  {
   "cell_type": "markdown",
   "id": "638fc0db-5dcb-4243-b282-abdb1a5036d3",
   "metadata": {},
   "source": [
    "분류 모형 평가 지표\n",
    "\n",
    "- 분류 모형의 예측 결과는 참/거짓과 같은 범주 형태\n",
    "- 예측 값이 실제 값과 많이 일치할수록 모형이 예측을 잘함\n",
    "- 정확도: 전체 데이터 중 예측을 정확하게 한 데이터의 비율\n",
    "- 정밀도: Positive로 예측한 데이터 중 실제 Positive인 데이터 비율\n",
    "- 재현율, 민감도: 실제 Positive인 데이터 중 모형이 Positive로 예측한 데이터 비율\n",
    "- 특이도: 실제 Negative인 데이터 중 모형이 Negative로 예측한 데이터 비율\n",
    "- F1-Score: 정밀도와 재현율의 조화평균\n",
    "- 거짓 긍정률: 실제 Negative인 데이터 중 모형이 Positive로 예측한 데이터의 비율(= 1-특이도)\n",
    "- 참 긍정률: 실제 Positive인 데이터 중 모형이 Positive로 예측한 데이터의 비율(= 재현율, 민감도)"
   ]
  },
  {
   "cell_type": "markdown",
   "id": "3f84d2cc-292e-45cb-8dd1-8f1b6c056b69",
   "metadata": {},
   "source": [
    "혼동행렬: 분류모형이 예측한 값과 실제 값의 조합을 표 형태로 나타낸 것"
   ]
  },
  {
   "cell_type": "markdown",
   "id": "d388fdb5-9cfc-4664-a32f-d8468734bc79",
   "metadata": {},
   "source": [
    "ROC 곡선\n",
    "\n",
    "- 임계값이 0~1로 변화할 때의 곡선\n",
    "- x축은 거짓긍정률, y축은 참 긍정률\n",
    "- AUC: 곡선 아래의 면적, 1에 가까울수록 분류 모델 성능이 좋음"
   ]
  },
  {
   "cell_type": "markdown",
   "id": "df34d755-ece9-421c-af7d-a394d42ee085",
   "metadata": {
    "jp-MarkdownHeadingCollapsed": true
   },
   "source": [
    "#### 분석 모형 진단: 분석에 사용된 데이터가 분석 모형 가정을 제대로 만족하는지 확인"
   ]
  },
  {
   "cell_type": "markdown",
   "id": "c7cbcb02-9ffc-46bd-a4b9-05a5e1084bca",
   "metadata": {},
   "source": [
    "회귀모형진단\n",
    "\n",
    "- 선형성: 종속변수는 독립변수의 선형함수, 잔차 산점도의 선형성 확인\n",
    "- 독립성: 독립변수 사이에는 상관관계 없어야, 잔차 산점도에 경향성이 없는지 확인/더빈-왓슨 검정\n",
    "- 등분산성: 오차항의 분산은 등분산이다, 잔차 산점도가 고르게 분포해야\n",
    "- 정규성: 오차항의 평균은 0, 샤피로-윌크 검정/콜모고로프-스미르노프 적합성 검정/Q-Q plot"
   ]
  },
  {
   "cell_type": "markdown",
   "id": "15068db9-c791-4cef-b921-7dc7234b1038",
   "metadata": {},
   "source": [
    "분석모형 오류\n",
    "\n",
    "- 일반화 오류: 과대적합, 학습데이터 특성을 지나치게 반영\n",
    "- 학습 오류: 과소적합, 학습 데이터 특성을 부족하게 반영"
   ]
  },
  {
   "cell_type": "markdown",
   "id": "dc0b3edb-0181-4a68-b022-9f77e97b6560",
   "metadata": {
    "jp-MarkdownHeadingCollapsed": true
   },
   "source": [
    "#### 교차검증: 데이터의 일부는 분석 모형 학습에 사용, 나머지는 모델 검증에 사용 -> 반복"
   ]
  },
  {
   "cell_type": "markdown",
   "id": "816b970e-48d6-4f91-8ad7-3f76ba1383bb",
   "metadata": {},
   "source": [
    "K-fold 교차 검증\n",
    "\n",
    "- k개의 fold로 나누어 (k-1)개는 학습에, 나머지 한 개는 검증에 사용\n",
    "- k개의 평가 지표 값 평균을 성능 지표로 사용\n",
    "\n",
    "Hold-out 교차 검증\n",
    "\n",
    "- 데이터를 무작위로 7:3 또는 8:2 비율로 학습 데이터와 검증 데이터로 나눔\n",
    "\n",
    "Leave-p-out 교차 검증\n",
    "\n",
    "- 데이터 중 p개의 관측치만 검증 데이터로 사용하고 나머지는 학습 데이터로\n",
    "- p=1인 경우 리브-원-아웃 교차 검증이라고 하기도"
   ]
  },
  {
   "cell_type": "markdown",
   "id": "55400f64-23f9-4f40-95ec-55f9cb4d1b09",
   "metadata": {},
   "source": [
    "#### 모수의 유의성 검정: 수집된 자료가 통계적으로 유의한지 판단"
   ]
  },
  {
   "cell_type": "markdown",
   "id": "a3c787af-a5d7-496f-9441-03ddc6b5c0a6",
   "metadata": {},
   "source": [
    "- 모수 검정: 모집단의 분포를 가정 -> 집단 간 차이를 검정\n",
    "- 비모수 검정: 모집단이 특정 분포를 가정 X -> 집단 간 차이를 검정, n=30 미만이거나 서열/명목 척도인 경우"
   ]
  },
  {
   "cell_type": "markdown",
   "id": "a34c04e5-ac2e-4cc1-ab9b-dc1c8e81e3eb",
   "metadata": {},
   "source": [
    "모집단에 대한 유의성 검정\n",
    "\n",
    "- z-검정: 추출된 표본이 모집단에 속하는지 검증\n",
    "- t-검정: 평균값 검증(1-way), 두 집단의 평균 비교(2-way)\n",
    "- 분산분석(ANOVA): 두 개 이상 집단의 평균 비교\n",
    "- 카이제곱 검정: 분산을 알고 있을 때 두 집단의 동질성 겁정\n",
    "- F-검정: 두 모집단 분산 차이가 유의한지 검정"
   ]
  },
  {
   "cell_type": "markdown",
   "id": "c153bcf7-07cb-4fbb-96c6-46fdd64a56ef",
   "metadata": {},
   "source": [
    "#### 적합도 검정: 통계 분포가 관측치에 얼마나 잘 맞는지"
   ]
  },
  {
   "cell_type": "markdown",
   "id": "61aad534-bf7d-4b87-8719-ed120a3ae385",
   "metadata": {},
   "source": [
    "- Q-Q plot: 정규분포에 얼마나 가까운지 시각적으로 표현\n",
    "- 카이제곱 검정: 독립인지 아닌지 확인, 범주형 데이터에 사용\n",
    "- 샤피로 윌크 검정: 데이터의 정규성 검증\n",
    "- 콜모고로프 스미르노프 검정: 예산 분포와 얼마나 잘 맞는지, 연속형 데이터에 적용 가능"
   ]
  },
  {
   "cell_type": "markdown",
   "id": "543bdc39-d907-4772-a8ac-373b83107b69",
   "metadata": {},
   "source": [
    "### 2. 분석 모형 개선"
   ]
  },
  {
   "cell_type": "markdown",
   "id": "6800e0bd-f55a-40c7-aacb-dfe4022d7d2b",
   "metadata": {},
   "source": [
    "- 과대적합(오버피팅): 분석 모형이 학습 데이터에 지나치게 적합, 일반화 X\n",
    "- 과소적합(언더피팅): 분석 모형이 학습 데이터에서 패턴을 충분히 학습하지 못한 것"
   ]
  },
  {
   "cell_type": "markdown",
   "id": "73f0a90d-82f0-4f5f-9ac9-e527db986f82",
   "metadata": {},
   "source": [
    "#### 과대적합 방지\n",
    "\n",
    "- 학습 데이터 수 증가\n",
    "- 가중치 규제 (L1규제, L2규제)\n",
    "- 교차 검증"
   ]
  },
  {
   "cell_type": "markdown",
   "id": "f964b0a6-d4c6-4908-a279-9aa7892ed73c",
   "metadata": {},
   "source": [
    "#### 매개변수 최적화"
   ]
  },
  {
   "cell_type": "markdown",
   "id": "3f918460-e137-40d1-b32f-8c7b18b07a8a",
   "metadata": {},
   "source": [
    "매개변수 최적화: 손실함수(결과값과 실제값의 차이)의 값을 가장 작게 만드는 매개변수의 최적값을 찾아나가는 과정\n",
    "\n",
    "경사하강법: 손실함수 기울기를 통해 최적값을 구하는 방법\n",
    "\n",
    "- 배치 경사하강법(BGD): 전체 데이터, 부드럽게 수렴, 느린 속도\n",
    "- 확률적 경사 하강법(SGD): 무작위 1개 선택, 오차율 크고 불안정하게 수렴, 빠른 속도\n",
    "- 미니 배치 경사하강법: 무작위 10~1000개 데이터 선택, BGD보다 빠르고  SGD보다 낮은 오차율"
   ]
  },
  {
   "cell_type": "markdown",
   "id": "a7665739-e4eb-4c9f-aded-09302e72edf3",
   "metadata": {},
   "source": [
    "모멘텀\n",
    "\n",
    "- 확률적 경사하강법의 매개변수 변경 방향에 가속도를 부여하는 방식\n",
    "- 모멘텀 계수 알파는 하이퍼파라미터(보통 0.9로 설정)"
   ]
  },
  {
   "cell_type": "markdown",
   "id": "bf25a1a8-8bf2-4c8d-b932-14b366aa7524",
   "metadata": {},
   "source": [
    "AdaGrad\n",
    "\n",
    "- 매개변수마다 학습률을 다르게 적용\n",
    "- 값이 많이 변한 매개변수일수록 학습률 낮춤\n",
    "- 장점: 자동으로 학습률 변경\n",
    "- 단점: 최적값 도달 전 학습률이 0에 가까워짐"
   ]
  },
  {
   "cell_type": "markdown",
   "id": "e1c8a345-e4ff-4229-ae46-e6de568ef509",
   "metadata": {},
   "source": [
    "RMSProp\n",
    "\n",
    "- AdaGrad의 개선된 방법\n",
    "- 새로운 하이퍼파라미터 로우를 도입, 로우가 작을수록 최근 기울기 더 많이 반영"
   ]
  },
  {
   "cell_type": "markdown",
   "id": "c6541f4e-da4c-449b-9b61-cfe7b310622e",
   "metadata": {},
   "source": [
    "Adam\n",
    "\n",
    "- 모멘텀 + RMSProp\n",
    "- 매개변수의 번경 방향과 폭을 모두 적절히 조절 가능\n",
    "- 가장 많이 사용됨"
   ]
  },
  {
   "cell_type": "markdown",
   "id": "672e7d21-8666-4968-a0a9-60e33655a015",
   "metadata": {},
   "source": [
    "#### 분석 모형 융합(앙상블): 다양한 종류의 분석 모형 결합"
   ]
  },
  {
   "cell_type": "markdown",
   "id": "1c090ccf-8a1d-426c-9200-36d05e16f4c6",
   "metadata": {},
   "source": [
    "보팅(Voting): 여러 개의 분석 모형 결과를 종합\n",
    "\n",
    "- 직접 투표(Hard voting): 많이 선택된 클래스를 최종 결과로 예측\n",
    "- 간접 투표(Soft voting): 각 모형의 클래스 확률값을 평균내어 확률이 가장 높은 클래스를 최종 결과로 예측"
   ]
  },
  {
   "cell_type": "markdown",
   "id": "3cf3d736-dd4a-47e6-b611-ab1a63f359a2",
   "metadata": {},
   "source": [
    "배깅(Bagging): 일정한 크기의 부트스트랩 샘플을 무작위 복원 추출해서 학습 -> 종합해서 최종 분석모형 도출"
   ]
  },
  {
   "cell_type": "markdown",
   "id": "91142ffb-fae5-4fad-b1c4-59c21bbb13c0",
   "metadata": {},
   "source": [
    "부스팅(Boosting): 약한 분석 모형 어러 개를 연결해서 강한 분석 모형을 만듦\n",
    "\n",
    "- 정답에는 낮은 가중치, 오답에는 높은 가중치 -> 오답을 더 잘 맞추도록 학습시킴\n"
   ]
  },
  {
   "cell_type": "markdown",
   "id": "3ffa8f94-faf6-4b77-9f1e-0aeae98652a8",
   "metadata": {},
   "source": [
    "스태킹(Stacking): 여러 분석모형 예측을 종합"
   ]
  },
  {
   "cell_type": "markdown",
   "id": "f120b94c-2525-4332-bc1f-2003e97bd0b9",
   "metadata": {},
   "source": [
    "#### 최종모형 선정\n",
    "\n",
    "- 최종모형 평가 기준 선정: 성능 지표 활용\n",
    "- 분석모형 평가: 훈련에 사용하지 않은 데이터로 평가\n",
    "- 최종모형 선정: 예측 성눙, 분석 모형 반영 가능 여부 고렽"
   ]
  },
  {
   "cell_type": "markdown",
   "id": "aada1b1a-f242-47db-af0e-71fa27141cdd",
   "metadata": {},
   "source": [
    "## CHAPTER 02 분석 결과 해석 및 활용"
   ]
  },
  {
   "cell_type": "markdown",
   "id": "049d07bf-a7da-4f75-9ba0-9ece0b171f33",
   "metadata": {},
   "source": [
    "### 1. 분석 결과 해석"
   ]
  },
  {
   "cell_type": "markdown",
   "id": "a1c4f95f-d8c3-4ab9-bc54-a4f3a6e0b48a",
   "metadata": {},
   "source": [
    "#### 분석 모형 해석\n",
    "\n",
    "- 해석 가능한 모형: 선형 회귀, 로지스틱 회귀, 의사결정 나무 등, 간단하고 직관적, 예측 정확도 낮음\n",
    "- 순열 변수 중요도: 특정 변수를 제외했을때 손실을 계싼 -> 변수의 중요도 파악, 대표적이고 직관적\n",
    "- 부분 의존도 plot: 중요 변수를 1~2개 선택 후 어떤 영향을 미치는지 확인"
   ]
  },
  {
   "cell_type": "markdown",
   "id": "e241e174-7a28-4f5c-8070-f22d612dee55",
   "metadata": {},
   "source": [
    "#### 비즈니스 기여도 평가: 실제 업무에 적용됐을 때의 개선 효과 정량적 평가\n",
    "\n",
    "- 투자 대비 효과(ROI): 순 효과/총 비용\n",
    "- 순현재가치(NPV): 편익의 현재 가치 - 비용의 현재 가치 (순현재가치>0 -> 타당성 있는 사업)\n",
    "- 내부 수익률(IRR): 순현재가치=0이 되게하는 할인율 (IRR > 요구수익률 -> 투자 적합)\n",
    "- 총 소유비용(TCO): 자산 획득 시의 비용 + 제반 비용 등 총 비용\n",
    "- 투자 회수 기간(PP): 누적 현금 흐름이 흑자로 돌아서는 시점까지의 기간"
   ]
  },
  {
   "cell_type": "markdown",
   "id": "3421ea8a-220b-4b3f-85b6-ae29ebc07727",
   "metadata": {},
   "source": [
    "### 분석 결과 시각화"
   ]
  },
  {
   "cell_type": "markdown",
   "id": "8cd55f7c-194e-4cbb-b09a-5c2b9f65a713",
   "metadata": {},
   "source": [
    "#### 시각화\n",
    "\n",
    "- 목적: 데이터 분석, 의사소통 수단\n",
    "- 분류: 데이터 시각화, 정보 시각화, 정보 디자인\n",
    "- 프로세스: 정보 구조화 -> 정보 시각화 -> 정보 시각표현"
   ]
  },
  {
   "cell_type": "markdown",
   "id": "d650e935-a9da-449e-ac11-ed15d6a28e35",
   "metadata": {},
   "source": [
    "#### 시간 시각화\n",
    "\n",
    "- 시간에 따른 데이터의 변화를 보여줌\n",
    "- x축: 시간, y축: 데이터 값\n",
    "- 막대 그래프, 산점도, 선 그래프, 계단식 그래프, 영역 차트"
   ]
  },
  {
   "cell_type": "markdown",
   "id": "c1d50ee3-a61a-4977-a35d-fcb2f9ebdc8d",
   "metadata": {},
   "source": [
    "#### 공간 시각화\n",
    "\n",
    "- 데이터를 지도 위에 표현하는 방법\n",
    "- 지리 정보가 중요할 때\n",
    "- 등치지역도, 도트 플롯 맵, 버블 플롯 맵, 등치선도, 카토그램"
   ]
  },
  {
   "cell_type": "markdown",
   "id": "3643665c-2bbe-460b-94a1-9861c47760c3",
   "metadata": {},
   "source": [
    "#### 관계 시각화\n",
    "\n",
    "- 변수 간의 연관성, 분포 패턴을 찾기 위한 방법\n",
    "- 산점도, 산점도 행렬, 버블 차트, 히스토그램"
   ]
  },
  {
   "cell_type": "markdown",
   "id": "ccf5858f-9093-46eb-a976-6411b8bd4f95",
   "metadata": {},
   "source": [
    "#### 비교 시각화\n",
    "\n",
    "- 여러 변수의 값들을 비교하고 싶을 때 사용\n",
    "- 히트맵, 스타 차트, 체르노프 페이스, 평행 좌표 그래프"
   ]
  },
  {
   "cell_type": "markdown",
   "id": "4757754f-bfa3-4c00-ac36-d6edac9f1863",
   "metadata": {},
   "source": [
    "#### 인포그래픽\n",
    "\n",
    "- 복잡한 데이터를 그래픽으로 쉽게 표현하는 방법\n",
    "- 데이터 시각화와 달리 raw data 취급 X\n",
    "- 정보 디자인의 목적: 객관적 정보 전달하는 정보성 메시지 담는 것(지하철 노선도), 주장하는 바인 설득형 메시지를 담는 것(사회적인 메시지)"
   ]
  },
  {
   "cell_type": "markdown",
   "id": "4a8763af-d7f1-4172-903f-94e6457d4c3a",
   "metadata": {},
   "source": [
    "### 분석 결과 활용"
   ]
  },
  {
   "cell_type": "markdown",
   "id": "ec992da6-0136-4c90-8e5d-05ae59496113",
   "metadata": {},
   "source": [
    "#### 분석 모형 전개: 분석 결과를 확장 적용하는 단계\n",
    "\n",
    "- 운영 시스템 구성, 분석 모형이 개발된 툴/언어, 운영 요건별로 다르게 적용"
   ]
  },
  {
   "cell_type": "markdown",
   "id": "246c3f5f-40b6-462b-a799-b845f0db0140",
   "metadata": {},
   "source": [
    "#### 분석 결과 활용 시나리오 개발: 분석 결과를 의사결정에 반영\n",
    "\n",
    "- 이니사이트 발굴 및 확장\n",
    "- 의사결정 방법 선택\n",
    "- 차트 및 시각화 도구 선택"
   ]
  },
  {
   "cell_type": "markdown",
   "id": "2b5fa331-1865-43fb-919d-beebef5256e7",
   "metadata": {},
   "source": [
    "#### 분석 모형 모니터링: 개선 필요 시점 파악\n",
    "\n",
    "- 분석 모형 모니터링 주기\n",
    "- 분석 모형 성능 측정 항목\n",
    "- 분석 모형 재학습: 최신 데이터로 주기적으로 분석 모형 학습, 모니터링 성능 떨어지면 새로운 분석 모형 구축"
   ]
  },
  {
   "cell_type": "markdown",
   "id": "da9fe621-8e78-471f-8382-86b932d30a09",
   "metadata": {},
   "source": [
    "#### 분석 모형 리모델링: 새로운 데이터 및 변수 추가, 알고리즘 반영 등\n",
    "\n",
    "- 기존 분석 모형 분석\n",
    "- 데이터 수집 및 전처리\n",
    "- 분석 모형 구축\n",
    "- 최종 분석 모형 선정 및 반영"
   ]
  }
 ],
 "metadata": {
  "kernelspec": {
   "display_name": "Python [conda env:base] *",
   "language": "python",
   "name": "conda-base-py"
  },
  "language_info": {
   "codemirror_mode": {
    "name": "ipython",
    "version": 3
   },
   "file_extension": ".py",
   "mimetype": "text/x-python",
   "name": "python",
   "nbconvert_exporter": "python",
   "pygments_lexer": "ipython3",
   "version": "3.12.2"
  }
 },
 "nbformat": 4,
 "nbformat_minor": 5
}
